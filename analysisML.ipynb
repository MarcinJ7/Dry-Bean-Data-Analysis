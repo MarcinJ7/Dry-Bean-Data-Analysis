{
 "cells": [
  {
   "cell_type": "code",
   "execution_count": 1,
   "id": "8c2740b5",
   "metadata": {},
   "outputs": [],
   "source": [
    "# Dataset: https://archive.ics.uci.edu/ml/datasets/Dry+Bean+Dataset"
   ]
  },
  {
   "cell_type": "markdown",
   "id": "30bce2b0",
   "metadata": {},
   "source": [
    "Abstract:\n",
    "Images of 13,611 grains of 7 different registered dry beans were taken with a high-resolution camera. A total of 16 features; 12 dimensions and 4 shape forms, were obtained from the grains."
   ]
  },
  {
   "cell_type": "code",
   "execution_count": 2,
   "id": "239168d5",
   "metadata": {},
   "outputs": [],
   "source": [
    "# Package import\n",
    "import pandas as pd\n",
    "import numpy as np\n",
    "import seaborn as sns\n",
    "import matplotlib.pyplot as plt"
   ]
  },
  {
   "cell_type": "code",
   "execution_count": 3,
   "id": "80d647ab",
   "metadata": {},
   "outputs": [],
   "source": [
    "# Load dataset"
   ]
  },
  {
   "cell_type": "code",
   "execution_count": 7,
   "id": "2cf03965",
   "metadata": {},
   "outputs": [],
   "source": [
    "df = pd.read_excel('Dry_Bean_Dataset.xlsx', engine='openpyxl')"
   ]
  },
  {
   "cell_type": "code",
   "execution_count": 5,
   "id": "314faf25",
   "metadata": {},
   "outputs": [
    {
     "name": "stdout",
     "output_type": "stream",
     "text": [
      "Collecting xlrd==1.2.0\n",
      "  Downloading xlrd-1.2.0-py2.py3-none-any.whl (103 kB)\n",
      "Installing collected packages: xlrd\n",
      "  Attempting uninstall: xlrd\n",
      "    Found existing installation: xlrd 2.0.1\n",
      "    Uninstalling xlrd-2.0.1:\n",
      "      Successfully uninstalled xlrd-2.0.1\n",
      "Successfully installed xlrd-1.2.0\n",
      "Note: you may need to restart the kernel to use updated packages.\n"
     ]
    },
    {
     "name": "stderr",
     "output_type": "stream",
     "text": [
      "WARNING: Ignoring invalid distribution -illow (c:\\users\\marcin\\anaconda3\\lib\\site-packages)\n",
      "WARNING: Ignoring invalid distribution -cipy (c:\\users\\marcin\\anaconda3\\lib\\site-packages)\n",
      "WARNING: Ignoring invalid distribution -illow (c:\\users\\marcin\\anaconda3\\lib\\site-packages)\n",
      "WARNING: Ignoring invalid distribution -cipy (c:\\users\\marcin\\anaconda3\\lib\\site-packages)\n",
      "    WARNING: Ignoring invalid distribution -illow (c:\\users\\marcin\\anaconda3\\lib\\site-packages)\n",
      "    WARNING: Ignoring invalid distribution -cipy (c:\\users\\marcin\\anaconda3\\lib\\site-packages)\n",
      "WARNING: Ignoring invalid distribution -illow (c:\\users\\marcin\\anaconda3\\lib\\site-packages)\n",
      "WARNING: Ignoring invalid distribution -cipy (c:\\users\\marcin\\anaconda3\\lib\\site-packages)\n",
      "WARNING: Ignoring invalid distribution -illow (c:\\users\\marcin\\anaconda3\\lib\\site-packages)\n",
      "WARNING: Ignoring invalid distribution -cipy (c:\\users\\marcin\\anaconda3\\lib\\site-packages)\n",
      "WARNING: Ignoring invalid distribution -illow (c:\\users\\marcin\\anaconda3\\lib\\site-packages)\n",
      "WARNING: Ignoring invalid distribution -cipy (c:\\users\\marcin\\anaconda3\\lib\\site-packages)\n"
     ]
    }
   ],
   "source": [
    "# If error: pip install xlrd==1.2.0"
   ]
  },
  {
   "cell_type": "code",
   "execution_count": 8,
   "id": "0900f442",
   "metadata": {},
   "outputs": [
    {
     "data": {
      "text/html": [
       "<div>\n",
       "<style scoped>\n",
       "    .dataframe tbody tr th:only-of-type {\n",
       "        vertical-align: middle;\n",
       "    }\n",
       "\n",
       "    .dataframe tbody tr th {\n",
       "        vertical-align: top;\n",
       "    }\n",
       "\n",
       "    .dataframe thead th {\n",
       "        text-align: right;\n",
       "    }\n",
       "</style>\n",
       "<table border=\"1\" class=\"dataframe\">\n",
       "  <thead>\n",
       "    <tr style=\"text-align: right;\">\n",
       "      <th></th>\n",
       "      <th>Area</th>\n",
       "      <th>Perimeter</th>\n",
       "      <th>MajorAxisLength</th>\n",
       "      <th>MinorAxisLength</th>\n",
       "      <th>AspectRation</th>\n",
       "      <th>Eccentricity</th>\n",
       "      <th>ConvexArea</th>\n",
       "      <th>EquivDiameter</th>\n",
       "      <th>Extent</th>\n",
       "      <th>Solidity</th>\n",
       "      <th>roundness</th>\n",
       "      <th>Compactness</th>\n",
       "      <th>ShapeFactor1</th>\n",
       "      <th>ShapeFactor2</th>\n",
       "      <th>ShapeFactor3</th>\n",
       "      <th>ShapeFactor4</th>\n",
       "      <th>Class</th>\n",
       "    </tr>\n",
       "  </thead>\n",
       "  <tbody>\n",
       "    <tr>\n",
       "      <th>0</th>\n",
       "      <td>28395</td>\n",
       "      <td>610.291</td>\n",
       "      <td>208.178117</td>\n",
       "      <td>173.888747</td>\n",
       "      <td>1.197191</td>\n",
       "      <td>0.549812</td>\n",
       "      <td>28715</td>\n",
       "      <td>190.141097</td>\n",
       "      <td>0.763923</td>\n",
       "      <td>0.988856</td>\n",
       "      <td>0.958027</td>\n",
       "      <td>0.913358</td>\n",
       "      <td>0.007332</td>\n",
       "      <td>0.003147</td>\n",
       "      <td>0.834222</td>\n",
       "      <td>0.998724</td>\n",
       "      <td>SEKER</td>\n",
       "    </tr>\n",
       "    <tr>\n",
       "      <th>1</th>\n",
       "      <td>28734</td>\n",
       "      <td>638.018</td>\n",
       "      <td>200.524796</td>\n",
       "      <td>182.734419</td>\n",
       "      <td>1.097356</td>\n",
       "      <td>0.411785</td>\n",
       "      <td>29172</td>\n",
       "      <td>191.272750</td>\n",
       "      <td>0.783968</td>\n",
       "      <td>0.984986</td>\n",
       "      <td>0.887034</td>\n",
       "      <td>0.953861</td>\n",
       "      <td>0.006979</td>\n",
       "      <td>0.003564</td>\n",
       "      <td>0.909851</td>\n",
       "      <td>0.998430</td>\n",
       "      <td>SEKER</td>\n",
       "    </tr>\n",
       "    <tr>\n",
       "      <th>2</th>\n",
       "      <td>29380</td>\n",
       "      <td>624.110</td>\n",
       "      <td>212.826130</td>\n",
       "      <td>175.931143</td>\n",
       "      <td>1.209713</td>\n",
       "      <td>0.562727</td>\n",
       "      <td>29690</td>\n",
       "      <td>193.410904</td>\n",
       "      <td>0.778113</td>\n",
       "      <td>0.989559</td>\n",
       "      <td>0.947849</td>\n",
       "      <td>0.908774</td>\n",
       "      <td>0.007244</td>\n",
       "      <td>0.003048</td>\n",
       "      <td>0.825871</td>\n",
       "      <td>0.999066</td>\n",
       "      <td>SEKER</td>\n",
       "    </tr>\n",
       "    <tr>\n",
       "      <th>3</th>\n",
       "      <td>30008</td>\n",
       "      <td>645.884</td>\n",
       "      <td>210.557999</td>\n",
       "      <td>182.516516</td>\n",
       "      <td>1.153638</td>\n",
       "      <td>0.498616</td>\n",
       "      <td>30724</td>\n",
       "      <td>195.467062</td>\n",
       "      <td>0.782681</td>\n",
       "      <td>0.976696</td>\n",
       "      <td>0.903936</td>\n",
       "      <td>0.928329</td>\n",
       "      <td>0.007017</td>\n",
       "      <td>0.003215</td>\n",
       "      <td>0.861794</td>\n",
       "      <td>0.994199</td>\n",
       "      <td>SEKER</td>\n",
       "    </tr>\n",
       "    <tr>\n",
       "      <th>4</th>\n",
       "      <td>30140</td>\n",
       "      <td>620.134</td>\n",
       "      <td>201.847882</td>\n",
       "      <td>190.279279</td>\n",
       "      <td>1.060798</td>\n",
       "      <td>0.333680</td>\n",
       "      <td>30417</td>\n",
       "      <td>195.896503</td>\n",
       "      <td>0.773098</td>\n",
       "      <td>0.990893</td>\n",
       "      <td>0.984877</td>\n",
       "      <td>0.970516</td>\n",
       "      <td>0.006697</td>\n",
       "      <td>0.003665</td>\n",
       "      <td>0.941900</td>\n",
       "      <td>0.999166</td>\n",
       "      <td>SEKER</td>\n",
       "    </tr>\n",
       "    <tr>\n",
       "      <th>...</th>\n",
       "      <td>...</td>\n",
       "      <td>...</td>\n",
       "      <td>...</td>\n",
       "      <td>...</td>\n",
       "      <td>...</td>\n",
       "      <td>...</td>\n",
       "      <td>...</td>\n",
       "      <td>...</td>\n",
       "      <td>...</td>\n",
       "      <td>...</td>\n",
       "      <td>...</td>\n",
       "      <td>...</td>\n",
       "      <td>...</td>\n",
       "      <td>...</td>\n",
       "      <td>...</td>\n",
       "      <td>...</td>\n",
       "      <td>...</td>\n",
       "    </tr>\n",
       "    <tr>\n",
       "      <th>13606</th>\n",
       "      <td>42097</td>\n",
       "      <td>759.696</td>\n",
       "      <td>288.721612</td>\n",
       "      <td>185.944705</td>\n",
       "      <td>1.552728</td>\n",
       "      <td>0.765002</td>\n",
       "      <td>42508</td>\n",
       "      <td>231.515799</td>\n",
       "      <td>0.714574</td>\n",
       "      <td>0.990331</td>\n",
       "      <td>0.916603</td>\n",
       "      <td>0.801865</td>\n",
       "      <td>0.006858</td>\n",
       "      <td>0.001749</td>\n",
       "      <td>0.642988</td>\n",
       "      <td>0.998385</td>\n",
       "      <td>DERMASON</td>\n",
       "    </tr>\n",
       "    <tr>\n",
       "      <th>13607</th>\n",
       "      <td>42101</td>\n",
       "      <td>757.499</td>\n",
       "      <td>281.576392</td>\n",
       "      <td>190.713136</td>\n",
       "      <td>1.476439</td>\n",
       "      <td>0.735702</td>\n",
       "      <td>42494</td>\n",
       "      <td>231.526798</td>\n",
       "      <td>0.799943</td>\n",
       "      <td>0.990752</td>\n",
       "      <td>0.922015</td>\n",
       "      <td>0.822252</td>\n",
       "      <td>0.006688</td>\n",
       "      <td>0.001886</td>\n",
       "      <td>0.676099</td>\n",
       "      <td>0.998219</td>\n",
       "      <td>DERMASON</td>\n",
       "    </tr>\n",
       "    <tr>\n",
       "      <th>13608</th>\n",
       "      <td>42139</td>\n",
       "      <td>759.321</td>\n",
       "      <td>281.539928</td>\n",
       "      <td>191.187979</td>\n",
       "      <td>1.472582</td>\n",
       "      <td>0.734065</td>\n",
       "      <td>42569</td>\n",
       "      <td>231.631261</td>\n",
       "      <td>0.729932</td>\n",
       "      <td>0.989899</td>\n",
       "      <td>0.918424</td>\n",
       "      <td>0.822730</td>\n",
       "      <td>0.006681</td>\n",
       "      <td>0.001888</td>\n",
       "      <td>0.676884</td>\n",
       "      <td>0.996767</td>\n",
       "      <td>DERMASON</td>\n",
       "    </tr>\n",
       "    <tr>\n",
       "      <th>13609</th>\n",
       "      <td>42147</td>\n",
       "      <td>763.779</td>\n",
       "      <td>283.382636</td>\n",
       "      <td>190.275731</td>\n",
       "      <td>1.489326</td>\n",
       "      <td>0.741055</td>\n",
       "      <td>42667</td>\n",
       "      <td>231.653248</td>\n",
       "      <td>0.705389</td>\n",
       "      <td>0.987813</td>\n",
       "      <td>0.907906</td>\n",
       "      <td>0.817457</td>\n",
       "      <td>0.006724</td>\n",
       "      <td>0.001852</td>\n",
       "      <td>0.668237</td>\n",
       "      <td>0.995222</td>\n",
       "      <td>DERMASON</td>\n",
       "    </tr>\n",
       "    <tr>\n",
       "      <th>13610</th>\n",
       "      <td>42159</td>\n",
       "      <td>772.237</td>\n",
       "      <td>295.142741</td>\n",
       "      <td>182.204716</td>\n",
       "      <td>1.619841</td>\n",
       "      <td>0.786693</td>\n",
       "      <td>42600</td>\n",
       "      <td>231.686223</td>\n",
       "      <td>0.788962</td>\n",
       "      <td>0.989648</td>\n",
       "      <td>0.888380</td>\n",
       "      <td>0.784997</td>\n",
       "      <td>0.007001</td>\n",
       "      <td>0.001640</td>\n",
       "      <td>0.616221</td>\n",
       "      <td>0.998180</td>\n",
       "      <td>DERMASON</td>\n",
       "    </tr>\n",
       "  </tbody>\n",
       "</table>\n",
       "<p>13611 rows × 17 columns</p>\n",
       "</div>"
      ],
      "text/plain": [
       "        Area  Perimeter  MajorAxisLength  MinorAxisLength  AspectRation  \\\n",
       "0      28395    610.291       208.178117       173.888747      1.197191   \n",
       "1      28734    638.018       200.524796       182.734419      1.097356   \n",
       "2      29380    624.110       212.826130       175.931143      1.209713   \n",
       "3      30008    645.884       210.557999       182.516516      1.153638   \n",
       "4      30140    620.134       201.847882       190.279279      1.060798   \n",
       "...      ...        ...              ...              ...           ...   \n",
       "13606  42097    759.696       288.721612       185.944705      1.552728   \n",
       "13607  42101    757.499       281.576392       190.713136      1.476439   \n",
       "13608  42139    759.321       281.539928       191.187979      1.472582   \n",
       "13609  42147    763.779       283.382636       190.275731      1.489326   \n",
       "13610  42159    772.237       295.142741       182.204716      1.619841   \n",
       "\n",
       "       Eccentricity  ConvexArea  EquivDiameter    Extent  Solidity  roundness  \\\n",
       "0          0.549812       28715     190.141097  0.763923  0.988856   0.958027   \n",
       "1          0.411785       29172     191.272750  0.783968  0.984986   0.887034   \n",
       "2          0.562727       29690     193.410904  0.778113  0.989559   0.947849   \n",
       "3          0.498616       30724     195.467062  0.782681  0.976696   0.903936   \n",
       "4          0.333680       30417     195.896503  0.773098  0.990893   0.984877   \n",
       "...             ...         ...            ...       ...       ...        ...   \n",
       "13606      0.765002       42508     231.515799  0.714574  0.990331   0.916603   \n",
       "13607      0.735702       42494     231.526798  0.799943  0.990752   0.922015   \n",
       "13608      0.734065       42569     231.631261  0.729932  0.989899   0.918424   \n",
       "13609      0.741055       42667     231.653248  0.705389  0.987813   0.907906   \n",
       "13610      0.786693       42600     231.686223  0.788962  0.989648   0.888380   \n",
       "\n",
       "       Compactness  ShapeFactor1  ShapeFactor2  ShapeFactor3  ShapeFactor4  \\\n",
       "0         0.913358      0.007332      0.003147      0.834222      0.998724   \n",
       "1         0.953861      0.006979      0.003564      0.909851      0.998430   \n",
       "2         0.908774      0.007244      0.003048      0.825871      0.999066   \n",
       "3         0.928329      0.007017      0.003215      0.861794      0.994199   \n",
       "4         0.970516      0.006697      0.003665      0.941900      0.999166   \n",
       "...            ...           ...           ...           ...           ...   \n",
       "13606     0.801865      0.006858      0.001749      0.642988      0.998385   \n",
       "13607     0.822252      0.006688      0.001886      0.676099      0.998219   \n",
       "13608     0.822730      0.006681      0.001888      0.676884      0.996767   \n",
       "13609     0.817457      0.006724      0.001852      0.668237      0.995222   \n",
       "13610     0.784997      0.007001      0.001640      0.616221      0.998180   \n",
       "\n",
       "          Class  \n",
       "0         SEKER  \n",
       "1         SEKER  \n",
       "2         SEKER  \n",
       "3         SEKER  \n",
       "4         SEKER  \n",
       "...         ...  \n",
       "13606  DERMASON  \n",
       "13607  DERMASON  \n",
       "13608  DERMASON  \n",
       "13609  DERMASON  \n",
       "13610  DERMASON  \n",
       "\n",
       "[13611 rows x 17 columns]"
      ]
     },
     "execution_count": 8,
     "metadata": {},
     "output_type": "execute_result"
    }
   ],
   "source": [
    "df"
   ]
  },
  {
   "cell_type": "code",
   "execution_count": 18,
   "id": "a9cc901f",
   "metadata": {},
   "outputs": [],
   "source": [
    "# Our dataset contains 13611 rows and 17 cols"
   ]
  },
  {
   "cell_type": "code",
   "execution_count": 9,
   "id": "3543149a",
   "metadata": {},
   "outputs": [],
   "source": [
    "# Let's check column types"
   ]
  },
  {
   "cell_type": "code",
   "execution_count": 10,
   "id": "d2c7ce22",
   "metadata": {},
   "outputs": [
    {
     "name": "stdout",
     "output_type": "stream",
     "text": [
      "<class 'pandas.core.frame.DataFrame'>\n",
      "RangeIndex: 13611 entries, 0 to 13610\n",
      "Data columns (total 17 columns):\n",
      " #   Column           Non-Null Count  Dtype  \n",
      "---  ------           --------------  -----  \n",
      " 0   Area             13611 non-null  int64  \n",
      " 1   Perimeter        13611 non-null  float64\n",
      " 2   MajorAxisLength  13611 non-null  float64\n",
      " 3   MinorAxisLength  13611 non-null  float64\n",
      " 4   AspectRation     13611 non-null  float64\n",
      " 5   Eccentricity     13611 non-null  float64\n",
      " 6   ConvexArea       13611 non-null  int64  \n",
      " 7   EquivDiameter    13611 non-null  float64\n",
      " 8   Extent           13611 non-null  float64\n",
      " 9   Solidity         13611 non-null  float64\n",
      " 10  roundness        13611 non-null  float64\n",
      " 11  Compactness      13611 non-null  float64\n",
      " 12  ShapeFactor1     13611 non-null  float64\n",
      " 13  ShapeFactor2     13611 non-null  float64\n",
      " 14  ShapeFactor3     13611 non-null  float64\n",
      " 15  ShapeFactor4     13611 non-null  float64\n",
      " 16  Class            13611 non-null  object \n",
      "dtypes: float64(14), int64(2), object(1)\n",
      "memory usage: 1.8+ MB\n"
     ]
    }
   ],
   "source": [
    "df.info()"
   ]
  },
  {
   "cell_type": "code",
   "execution_count": 11,
   "id": "0fee50e4",
   "metadata": {},
   "outputs": [],
   "source": [
    "# We've got 16 numeric cols and 1 object (target varbiale)"
   ]
  },
  {
   "cell_type": "code",
   "execution_count": 13,
   "id": "36e43906",
   "metadata": {},
   "outputs": [],
   "source": [
    "# Let's check how many classes we have in our dataset"
   ]
  },
  {
   "cell_type": "code",
   "execution_count": 14,
   "id": "49e59bca",
   "metadata": {},
   "outputs": [
    {
     "data": {
      "text/plain": [
       "DERMASON    3546\n",
       "SIRA        2636\n",
       "SEKER       2027\n",
       "HOROZ       1928\n",
       "CALI        1630\n",
       "BARBUNYA    1322\n",
       "BOMBAY       522\n",
       "Name: Class, dtype: int64"
      ]
     },
     "execution_count": 14,
     "metadata": {},
     "output_type": "execute_result"
    }
   ],
   "source": [
    "df['Class'].value_counts()"
   ]
  },
  {
   "cell_type": "code",
   "execution_count": 16,
   "id": "73c1b98a",
   "metadata": {},
   "outputs": [],
   "source": [
    "# We have got 7 classes"
   ]
  },
  {
   "cell_type": "code",
   "execution_count": 17,
   "id": "6a9b8f40",
   "metadata": {},
   "outputs": [],
   "source": [
    "# Let's check is there any missing values in our dataset"
   ]
  },
  {
   "cell_type": "code",
   "execution_count": 20,
   "id": "15a8dbf0",
   "metadata": {},
   "outputs": [
    {
     "data": {
      "text/plain": [
       "Area               0\n",
       "Perimeter          0\n",
       "MajorAxisLength    0\n",
       "MinorAxisLength    0\n",
       "AspectRation       0\n",
       "Eccentricity       0\n",
       "ConvexArea         0\n",
       "EquivDiameter      0\n",
       "Extent             0\n",
       "Solidity           0\n",
       "roundness          0\n",
       "Compactness        0\n",
       "ShapeFactor1       0\n",
       "ShapeFactor2       0\n",
       "ShapeFactor3       0\n",
       "ShapeFactor4       0\n",
       "Class              0\n",
       "dtype: int64"
      ]
     },
     "execution_count": 20,
     "metadata": {},
     "output_type": "execute_result"
    }
   ],
   "source": [
    "df.isna().sum()"
   ]
  },
  {
   "cell_type": "code",
   "execution_count": 21,
   "id": "cdddb158",
   "metadata": {},
   "outputs": [],
   "source": [
    "# Our dataset is complete - there are no missing values"
   ]
  },
  {
   "cell_type": "code",
   "execution_count": 22,
   "id": "3a1ff6e5",
   "metadata": {},
   "outputs": [],
   "source": [
    "# Let's check some numerical descrription of our dataset"
   ]
  },
  {
   "cell_type": "code",
   "execution_count": 23,
   "id": "a0ea8a77",
   "metadata": {},
   "outputs": [
    {
     "data": {
      "text/html": [
       "<div>\n",
       "<style scoped>\n",
       "    .dataframe tbody tr th:only-of-type {\n",
       "        vertical-align: middle;\n",
       "    }\n",
       "\n",
       "    .dataframe tbody tr th {\n",
       "        vertical-align: top;\n",
       "    }\n",
       "\n",
       "    .dataframe thead th {\n",
       "        text-align: right;\n",
       "    }\n",
       "</style>\n",
       "<table border=\"1\" class=\"dataframe\">\n",
       "  <thead>\n",
       "    <tr style=\"text-align: right;\">\n",
       "      <th></th>\n",
       "      <th>Area</th>\n",
       "      <th>Perimeter</th>\n",
       "      <th>MajorAxisLength</th>\n",
       "      <th>MinorAxisLength</th>\n",
       "      <th>AspectRation</th>\n",
       "      <th>Eccentricity</th>\n",
       "      <th>ConvexArea</th>\n",
       "      <th>EquivDiameter</th>\n",
       "      <th>Extent</th>\n",
       "      <th>Solidity</th>\n",
       "      <th>roundness</th>\n",
       "      <th>Compactness</th>\n",
       "      <th>ShapeFactor1</th>\n",
       "      <th>ShapeFactor2</th>\n",
       "      <th>ShapeFactor3</th>\n",
       "      <th>ShapeFactor4</th>\n",
       "    </tr>\n",
       "  </thead>\n",
       "  <tbody>\n",
       "    <tr>\n",
       "      <th>count</th>\n",
       "      <td>13611.000000</td>\n",
       "      <td>13611.000000</td>\n",
       "      <td>13611.000000</td>\n",
       "      <td>13611.000000</td>\n",
       "      <td>13611.000000</td>\n",
       "      <td>13611.000000</td>\n",
       "      <td>13611.000000</td>\n",
       "      <td>13611.000000</td>\n",
       "      <td>13611.000000</td>\n",
       "      <td>13611.000000</td>\n",
       "      <td>13611.000000</td>\n",
       "      <td>13611.000000</td>\n",
       "      <td>13611.000000</td>\n",
       "      <td>13611.000000</td>\n",
       "      <td>13611.000000</td>\n",
       "      <td>13611.000000</td>\n",
       "    </tr>\n",
       "    <tr>\n",
       "      <th>mean</th>\n",
       "      <td>53048.284549</td>\n",
       "      <td>855.283459</td>\n",
       "      <td>320.141867</td>\n",
       "      <td>202.270714</td>\n",
       "      <td>1.583242</td>\n",
       "      <td>0.750895</td>\n",
       "      <td>53768.200206</td>\n",
       "      <td>253.064220</td>\n",
       "      <td>0.749733</td>\n",
       "      <td>0.987143</td>\n",
       "      <td>0.873282</td>\n",
       "      <td>0.799864</td>\n",
       "      <td>0.006564</td>\n",
       "      <td>0.001716</td>\n",
       "      <td>0.643590</td>\n",
       "      <td>0.995063</td>\n",
       "    </tr>\n",
       "    <tr>\n",
       "      <th>std</th>\n",
       "      <td>29324.095717</td>\n",
       "      <td>214.289696</td>\n",
       "      <td>85.694186</td>\n",
       "      <td>44.970091</td>\n",
       "      <td>0.246678</td>\n",
       "      <td>0.092002</td>\n",
       "      <td>29774.915817</td>\n",
       "      <td>59.177120</td>\n",
       "      <td>0.049086</td>\n",
       "      <td>0.004660</td>\n",
       "      <td>0.059520</td>\n",
       "      <td>0.061713</td>\n",
       "      <td>0.001128</td>\n",
       "      <td>0.000596</td>\n",
       "      <td>0.098996</td>\n",
       "      <td>0.004366</td>\n",
       "    </tr>\n",
       "    <tr>\n",
       "      <th>min</th>\n",
       "      <td>20420.000000</td>\n",
       "      <td>524.736000</td>\n",
       "      <td>183.601165</td>\n",
       "      <td>122.512653</td>\n",
       "      <td>1.024868</td>\n",
       "      <td>0.218951</td>\n",
       "      <td>20684.000000</td>\n",
       "      <td>161.243764</td>\n",
       "      <td>0.555315</td>\n",
       "      <td>0.919246</td>\n",
       "      <td>0.489618</td>\n",
       "      <td>0.640577</td>\n",
       "      <td>0.002778</td>\n",
       "      <td>0.000564</td>\n",
       "      <td>0.410339</td>\n",
       "      <td>0.947687</td>\n",
       "    </tr>\n",
       "    <tr>\n",
       "      <th>25%</th>\n",
       "      <td>36328.000000</td>\n",
       "      <td>703.523500</td>\n",
       "      <td>253.303633</td>\n",
       "      <td>175.848170</td>\n",
       "      <td>1.432307</td>\n",
       "      <td>0.715928</td>\n",
       "      <td>36714.500000</td>\n",
       "      <td>215.068003</td>\n",
       "      <td>0.718634</td>\n",
       "      <td>0.985670</td>\n",
       "      <td>0.832096</td>\n",
       "      <td>0.762469</td>\n",
       "      <td>0.005900</td>\n",
       "      <td>0.001154</td>\n",
       "      <td>0.581359</td>\n",
       "      <td>0.993703</td>\n",
       "    </tr>\n",
       "    <tr>\n",
       "      <th>50%</th>\n",
       "      <td>44652.000000</td>\n",
       "      <td>794.941000</td>\n",
       "      <td>296.883367</td>\n",
       "      <td>192.431733</td>\n",
       "      <td>1.551124</td>\n",
       "      <td>0.764441</td>\n",
       "      <td>45178.000000</td>\n",
       "      <td>238.438026</td>\n",
       "      <td>0.759859</td>\n",
       "      <td>0.988283</td>\n",
       "      <td>0.883157</td>\n",
       "      <td>0.801277</td>\n",
       "      <td>0.006645</td>\n",
       "      <td>0.001694</td>\n",
       "      <td>0.642044</td>\n",
       "      <td>0.996386</td>\n",
       "    </tr>\n",
       "    <tr>\n",
       "      <th>75%</th>\n",
       "      <td>61332.000000</td>\n",
       "      <td>977.213000</td>\n",
       "      <td>376.495012</td>\n",
       "      <td>217.031741</td>\n",
       "      <td>1.707109</td>\n",
       "      <td>0.810466</td>\n",
       "      <td>62294.000000</td>\n",
       "      <td>279.446467</td>\n",
       "      <td>0.786851</td>\n",
       "      <td>0.990013</td>\n",
       "      <td>0.916869</td>\n",
       "      <td>0.834270</td>\n",
       "      <td>0.007271</td>\n",
       "      <td>0.002170</td>\n",
       "      <td>0.696006</td>\n",
       "      <td>0.997883</td>\n",
       "    </tr>\n",
       "    <tr>\n",
       "      <th>max</th>\n",
       "      <td>254616.000000</td>\n",
       "      <td>1985.370000</td>\n",
       "      <td>738.860153</td>\n",
       "      <td>460.198497</td>\n",
       "      <td>2.430306</td>\n",
       "      <td>0.911423</td>\n",
       "      <td>263261.000000</td>\n",
       "      <td>569.374358</td>\n",
       "      <td>0.866195</td>\n",
       "      <td>0.994677</td>\n",
       "      <td>0.990685</td>\n",
       "      <td>0.987303</td>\n",
       "      <td>0.010451</td>\n",
       "      <td>0.003665</td>\n",
       "      <td>0.974767</td>\n",
       "      <td>0.999733</td>\n",
       "    </tr>\n",
       "  </tbody>\n",
       "</table>\n",
       "</div>"
      ],
      "text/plain": [
       "                Area     Perimeter  MajorAxisLength  MinorAxisLength  \\\n",
       "count   13611.000000  13611.000000     13611.000000     13611.000000   \n",
       "mean    53048.284549    855.283459       320.141867       202.270714   \n",
       "std     29324.095717    214.289696        85.694186        44.970091   \n",
       "min     20420.000000    524.736000       183.601165       122.512653   \n",
       "25%     36328.000000    703.523500       253.303633       175.848170   \n",
       "50%     44652.000000    794.941000       296.883367       192.431733   \n",
       "75%     61332.000000    977.213000       376.495012       217.031741   \n",
       "max    254616.000000   1985.370000       738.860153       460.198497   \n",
       "\n",
       "       AspectRation  Eccentricity     ConvexArea  EquivDiameter        Extent  \\\n",
       "count  13611.000000  13611.000000   13611.000000   13611.000000  13611.000000   \n",
       "mean       1.583242      0.750895   53768.200206     253.064220      0.749733   \n",
       "std        0.246678      0.092002   29774.915817      59.177120      0.049086   \n",
       "min        1.024868      0.218951   20684.000000     161.243764      0.555315   \n",
       "25%        1.432307      0.715928   36714.500000     215.068003      0.718634   \n",
       "50%        1.551124      0.764441   45178.000000     238.438026      0.759859   \n",
       "75%        1.707109      0.810466   62294.000000     279.446467      0.786851   \n",
       "max        2.430306      0.911423  263261.000000     569.374358      0.866195   \n",
       "\n",
       "           Solidity     roundness   Compactness  ShapeFactor1  ShapeFactor2  \\\n",
       "count  13611.000000  13611.000000  13611.000000  13611.000000  13611.000000   \n",
       "mean       0.987143      0.873282      0.799864      0.006564      0.001716   \n",
       "std        0.004660      0.059520      0.061713      0.001128      0.000596   \n",
       "min        0.919246      0.489618      0.640577      0.002778      0.000564   \n",
       "25%        0.985670      0.832096      0.762469      0.005900      0.001154   \n",
       "50%        0.988283      0.883157      0.801277      0.006645      0.001694   \n",
       "75%        0.990013      0.916869      0.834270      0.007271      0.002170   \n",
       "max        0.994677      0.990685      0.987303      0.010451      0.003665   \n",
       "\n",
       "       ShapeFactor3  ShapeFactor4  \n",
       "count  13611.000000  13611.000000  \n",
       "mean       0.643590      0.995063  \n",
       "std        0.098996      0.004366  \n",
       "min        0.410339      0.947687  \n",
       "25%        0.581359      0.993703  \n",
       "50%        0.642044      0.996386  \n",
       "75%        0.696006      0.997883  \n",
       "max        0.974767      0.999733  "
      ]
     },
     "execution_count": 23,
     "metadata": {},
     "output_type": "execute_result"
    }
   ],
   "source": [
    "df.describe()"
   ]
  },
  {
   "cell_type": "code",
   "execution_count": 24,
   "id": "ad147189",
   "metadata": {},
   "outputs": [],
   "source": [
    "# We can observe, that there are a lot of different features - based on mean and std"
   ]
  },
  {
   "cell_type": "code",
   "execution_count": 26,
   "id": "9facd184",
   "metadata": {},
   "outputs": [],
   "source": [
    "# So, we finished general analysis - now move to split data to training and test "
   ]
  },
  {
   "cell_type": "code",
   "execution_count": 28,
   "id": "a2a8b0d6",
   "metadata": {},
   "outputs": [],
   "source": [
    "from sklearn.model_selection import train_test_split"
   ]
  },
  {
   "cell_type": "code",
   "execution_count": 41,
   "id": "cca8b0df",
   "metadata": {},
   "outputs": [],
   "source": [
    "# Let's shuffle dataframe\n",
    "df = df.sample(frac = 1)"
   ]
  },
  {
   "cell_type": "code",
   "execution_count": 42,
   "id": "cd456d85",
   "metadata": {},
   "outputs": [],
   "source": [
    "# X will be a matrix with no class column\n",
    "X = df.drop(columns=['Class'])"
   ]
  },
  {
   "cell_type": "code",
   "execution_count": 43,
   "id": "c56190a6",
   "metadata": {},
   "outputs": [],
   "source": [
    "Y = df.Class"
   ]
  },
  {
   "cell_type": "code",
   "execution_count": 44,
   "id": "b4a873f5",
   "metadata": {},
   "outputs": [
    {
     "data": {
      "text/plain": [
       "11862    DERMASON\n",
       "7386        HOROZ\n",
       "12793    DERMASON\n",
       "6754        HOROZ\n",
       "12548    DERMASON\n",
       "           ...   \n",
       "2071     BARBUNYA\n",
       "2744     BARBUNYA\n",
       "6392        HOROZ\n",
       "11219    DERMASON\n",
       "12459    DERMASON\n",
       "Name: Class, Length: 13611, dtype: object"
      ]
     },
     "execution_count": 44,
     "metadata": {},
     "output_type": "execute_result"
    }
   ],
   "source": [
    "Y"
   ]
  },
  {
   "cell_type": "code",
   "execution_count": 45,
   "id": "8c9acdc7",
   "metadata": {},
   "outputs": [],
   "source": [
    "# Y is not a numerical, so we have to apply encoding for this column"
   ]
  },
  {
   "cell_type": "code",
   "execution_count": 46,
   "id": "e594fd6d",
   "metadata": {},
   "outputs": [],
   "source": [
    "from sklearn.preprocessing import LabelEncoder"
   ]
  },
  {
   "cell_type": "code",
   "execution_count": 47,
   "id": "0242f698",
   "metadata": {},
   "outputs": [],
   "source": [
    "label_enc = LabelEncoder()"
   ]
  },
  {
   "cell_type": "code",
   "execution_count": 48,
   "id": "60108143",
   "metadata": {},
   "outputs": [],
   "source": [
    "Y = label_enc.fit_transform(Y)"
   ]
  },
  {
   "cell_type": "code",
   "execution_count": 49,
   "id": "e261da51",
   "metadata": {},
   "outputs": [
    {
     "data": {
      "text/plain": [
       "array([3, 4, 3, ..., 4, 3, 3])"
      ]
     },
     "execution_count": 49,
     "metadata": {},
     "output_type": "execute_result"
    }
   ],
   "source": [
    "# Now we have only numerical data\n",
    "Y"
   ]
  },
  {
   "cell_type": "code",
   "execution_count": 69,
   "id": "aba708a7",
   "metadata": {},
   "outputs": [
    {
     "name": "stdout",
     "output_type": "stream",
     "text": [
      "3 - DERMASON\n",
      "4 - HOROZ\n",
      "3 - DERMASON\n",
      "4 - HOROZ\n",
      "3 - DERMASON\n",
      "0 - BARBUNYA\n",
      "6 - SIRA\n",
      "6 - SIRA\n",
      "5 - SEKER\n",
      "4 - HOROZ\n",
      "6 - SIRA\n",
      "5 - SEKER\n",
      "3 - DERMASON\n",
      "5 - SEKER\n"
     ]
    }
   ],
   "source": [
    "# But we can easily encode it into previous names\n",
    "for i in range(14):\n",
    "    print(str(Y[i]) + \" - \" + label_enc.inverse_transform([Y[i]])[0])"
   ]
  },
  {
   "cell_type": "code",
   "execution_count": 73,
   "id": "53758d4a",
   "metadata": {},
   "outputs": [],
   "source": [
    "# Now we can do a train test split with random state (to easily reproduce our results)"
   ]
  },
  {
   "cell_type": "code",
   "execution_count": 74,
   "id": "420ef7cc",
   "metadata": {},
   "outputs": [],
   "source": [
    "X_train, X_test, y_train, y_test = train_test_split(X, Y, test_size=0.2, random_state=123)"
   ]
  },
  {
   "cell_type": "code",
   "execution_count": 77,
   "id": "baed4411",
   "metadata": {},
   "outputs": [],
   "source": [
    "# Get shape of our data and display some statistics (for training of course). We focus only on training data - we assume, that\n",
    "# we do not know test data for now."
   ]
  },
  {
   "cell_type": "code",
   "execution_count": 78,
   "id": "96244462",
   "metadata": {},
   "outputs": [
    {
     "data": {
      "text/html": [
       "<div>\n",
       "<style scoped>\n",
       "    .dataframe tbody tr th:only-of-type {\n",
       "        vertical-align: middle;\n",
       "    }\n",
       "\n",
       "    .dataframe tbody tr th {\n",
       "        vertical-align: top;\n",
       "    }\n",
       "\n",
       "    .dataframe thead th {\n",
       "        text-align: right;\n",
       "    }\n",
       "</style>\n",
       "<table border=\"1\" class=\"dataframe\">\n",
       "  <thead>\n",
       "    <tr style=\"text-align: right;\">\n",
       "      <th></th>\n",
       "      <th>Area</th>\n",
       "      <th>Perimeter</th>\n",
       "      <th>MajorAxisLength</th>\n",
       "      <th>MinorAxisLength</th>\n",
       "      <th>AspectRation</th>\n",
       "      <th>Eccentricity</th>\n",
       "      <th>ConvexArea</th>\n",
       "      <th>EquivDiameter</th>\n",
       "      <th>Extent</th>\n",
       "      <th>Solidity</th>\n",
       "      <th>roundness</th>\n",
       "      <th>Compactness</th>\n",
       "      <th>ShapeFactor1</th>\n",
       "      <th>ShapeFactor2</th>\n",
       "      <th>ShapeFactor3</th>\n",
       "      <th>ShapeFactor4</th>\n",
       "    </tr>\n",
       "  </thead>\n",
       "  <tbody>\n",
       "    <tr>\n",
       "      <th>5575</th>\n",
       "      <td>39817</td>\n",
       "      <td>772.004</td>\n",
       "      <td>312.168513</td>\n",
       "      <td>163.003819</td>\n",
       "      <td>1.915099</td>\n",
       "      <td>0.852844</td>\n",
       "      <td>40310</td>\n",
       "      <td>225.159008</td>\n",
       "      <td>0.628673</td>\n",
       "      <td>0.987770</td>\n",
       "      <td>0.839536</td>\n",
       "      <td>0.721274</td>\n",
       "      <td>0.007840</td>\n",
       "      <td>0.001309</td>\n",
       "      <td>0.520236</td>\n",
       "      <td>0.996304</td>\n",
       "    </tr>\n",
       "    <tr>\n",
       "      <th>13028</th>\n",
       "      <td>37278</td>\n",
       "      <td>737.864</td>\n",
       "      <td>281.747347</td>\n",
       "      <td>168.833859</td>\n",
       "      <td>1.668785</td>\n",
       "      <td>0.800571</td>\n",
       "      <td>37788</td>\n",
       "      <td>217.861937</td>\n",
       "      <td>0.773435</td>\n",
       "      <td>0.986504</td>\n",
       "      <td>0.860419</td>\n",
       "      <td>0.773253</td>\n",
       "      <td>0.007558</td>\n",
       "      <td>0.001667</td>\n",
       "      <td>0.597920</td>\n",
       "      <td>0.997800</td>\n",
       "    </tr>\n",
       "    <tr>\n",
       "      <th>220</th>\n",
       "      <td>34532</td>\n",
       "      <td>689.551</td>\n",
       "      <td>217.022103</td>\n",
       "      <td>202.714908</td>\n",
       "      <td>1.070578</td>\n",
       "      <td>0.357077</td>\n",
       "      <td>35057</td>\n",
       "      <td>209.684305</td>\n",
       "      <td>0.768334</td>\n",
       "      <td>0.985024</td>\n",
       "      <td>0.912639</td>\n",
       "      <td>0.966189</td>\n",
       "      <td>0.006285</td>\n",
       "      <td>0.003378</td>\n",
       "      <td>0.933521</td>\n",
       "      <td>0.999407</td>\n",
       "    </tr>\n",
       "    <tr>\n",
       "      <th>9342</th>\n",
       "      <td>47348</td>\n",
       "      <td>816.287</td>\n",
       "      <td>313.401853</td>\n",
       "      <td>192.782549</td>\n",
       "      <td>1.625675</td>\n",
       "      <td>0.788427</td>\n",
       "      <td>47850</td>\n",
       "      <td>245.530743</td>\n",
       "      <td>0.692222</td>\n",
       "      <td>0.989509</td>\n",
       "      <td>0.892947</td>\n",
       "      <td>0.783437</td>\n",
       "      <td>0.006619</td>\n",
       "      <td>0.001538</td>\n",
       "      <td>0.613774</td>\n",
       "      <td>0.997798</td>\n",
       "    </tr>\n",
       "    <tr>\n",
       "      <th>1986</th>\n",
       "      <td>51630</td>\n",
       "      <td>826.672</td>\n",
       "      <td>296.446031</td>\n",
       "      <td>222.114293</td>\n",
       "      <td>1.334655</td>\n",
       "      <td>0.662279</td>\n",
       "      <td>52050</td>\n",
       "      <td>256.392975</td>\n",
       "      <td>0.771403</td>\n",
       "      <td>0.991931</td>\n",
       "      <td>0.949392</td>\n",
       "      <td>0.864889</td>\n",
       "      <td>0.005742</td>\n",
       "      <td>0.001982</td>\n",
       "      <td>0.748033</td>\n",
       "      <td>0.998367</td>\n",
       "    </tr>\n",
       "    <tr>\n",
       "      <th>...</th>\n",
       "      <td>...</td>\n",
       "      <td>...</td>\n",
       "      <td>...</td>\n",
       "      <td>...</td>\n",
       "      <td>...</td>\n",
       "      <td>...</td>\n",
       "      <td>...</td>\n",
       "      <td>...</td>\n",
       "      <td>...</td>\n",
       "      <td>...</td>\n",
       "      <td>...</td>\n",
       "      <td>...</td>\n",
       "      <td>...</td>\n",
       "      <td>...</td>\n",
       "      <td>...</td>\n",
       "      <td>...</td>\n",
       "    </tr>\n",
       "    <tr>\n",
       "      <th>12977</th>\n",
       "      <td>36965</td>\n",
       "      <td>707.646</td>\n",
       "      <td>263.102352</td>\n",
       "      <td>179.155729</td>\n",
       "      <td>1.468568</td>\n",
       "      <td>0.732343</td>\n",
       "      <td>37296</td>\n",
       "      <td>216.945384</td>\n",
       "      <td>0.775419</td>\n",
       "      <td>0.991125</td>\n",
       "      <td>0.927616</td>\n",
       "      <td>0.824566</td>\n",
       "      <td>0.007118</td>\n",
       "      <td>0.002030</td>\n",
       "      <td>0.679910</td>\n",
       "      <td>0.998494</td>\n",
       "    </tr>\n",
       "    <tr>\n",
       "      <th>1976</th>\n",
       "      <td>50760</td>\n",
       "      <td>851.459</td>\n",
       "      <td>289.510830</td>\n",
       "      <td>223.916513</td>\n",
       "      <td>1.292941</td>\n",
       "      <td>0.633881</td>\n",
       "      <td>51715</td>\n",
       "      <td>254.223601</td>\n",
       "      <td>0.754145</td>\n",
       "      <td>0.981533</td>\n",
       "      <td>0.879841</td>\n",
       "      <td>0.878114</td>\n",
       "      <td>0.005704</td>\n",
       "      <td>0.002092</td>\n",
       "      <td>0.771085</td>\n",
       "      <td>0.996967</td>\n",
       "    </tr>\n",
       "    <tr>\n",
       "      <th>10702</th>\n",
       "      <td>27476</td>\n",
       "      <td>626.740</td>\n",
       "      <td>241.183671</td>\n",
       "      <td>145.352913</td>\n",
       "      <td>1.659297</td>\n",
       "      <td>0.797994</td>\n",
       "      <td>27796</td>\n",
       "      <td>187.038846</td>\n",
       "      <td>0.729309</td>\n",
       "      <td>0.988488</td>\n",
       "      <td>0.878999</td>\n",
       "      <td>0.775504</td>\n",
       "      <td>0.008778</td>\n",
       "      <td>0.001958</td>\n",
       "      <td>0.601406</td>\n",
       "      <td>0.997911</td>\n",
       "    </tr>\n",
       "    <tr>\n",
       "      <th>12160</th>\n",
       "      <td>33196</td>\n",
       "      <td>668.346</td>\n",
       "      <td>249.220400</td>\n",
       "      <td>169.920034</td>\n",
       "      <td>1.466692</td>\n",
       "      <td>0.731533</td>\n",
       "      <td>33553</td>\n",
       "      <td>205.588083</td>\n",
       "      <td>0.808338</td>\n",
       "      <td>0.989360</td>\n",
       "      <td>0.933884</td>\n",
       "      <td>0.824925</td>\n",
       "      <td>0.007508</td>\n",
       "      <td>0.002145</td>\n",
       "      <td>0.680501</td>\n",
       "      <td>0.998085</td>\n",
       "    </tr>\n",
       "    <tr>\n",
       "      <th>778</th>\n",
       "      <td>38017</td>\n",
       "      <td>707.111</td>\n",
       "      <td>246.268777</td>\n",
       "      <td>196.809721</td>\n",
       "      <td>1.251304</td>\n",
       "      <td>0.601110</td>\n",
       "      <td>38373</td>\n",
       "      <td>220.010790</td>\n",
       "      <td>0.757809</td>\n",
       "      <td>0.990723</td>\n",
       "      <td>0.955460</td>\n",
       "      <td>0.893377</td>\n",
       "      <td>0.006478</td>\n",
       "      <td>0.002545</td>\n",
       "      <td>0.798122</td>\n",
       "      <td>0.998693</td>\n",
       "    </tr>\n",
       "  </tbody>\n",
       "</table>\n",
       "<p>10888 rows × 16 columns</p>\n",
       "</div>"
      ],
      "text/plain": [
       "        Area  Perimeter  MajorAxisLength  MinorAxisLength  AspectRation  \\\n",
       "5575   39817    772.004       312.168513       163.003819      1.915099   \n",
       "13028  37278    737.864       281.747347       168.833859      1.668785   \n",
       "220    34532    689.551       217.022103       202.714908      1.070578   \n",
       "9342   47348    816.287       313.401853       192.782549      1.625675   \n",
       "1986   51630    826.672       296.446031       222.114293      1.334655   \n",
       "...      ...        ...              ...              ...           ...   \n",
       "12977  36965    707.646       263.102352       179.155729      1.468568   \n",
       "1976   50760    851.459       289.510830       223.916513      1.292941   \n",
       "10702  27476    626.740       241.183671       145.352913      1.659297   \n",
       "12160  33196    668.346       249.220400       169.920034      1.466692   \n",
       "778    38017    707.111       246.268777       196.809721      1.251304   \n",
       "\n",
       "       Eccentricity  ConvexArea  EquivDiameter    Extent  Solidity  roundness  \\\n",
       "5575       0.852844       40310     225.159008  0.628673  0.987770   0.839536   \n",
       "13028      0.800571       37788     217.861937  0.773435  0.986504   0.860419   \n",
       "220        0.357077       35057     209.684305  0.768334  0.985024   0.912639   \n",
       "9342       0.788427       47850     245.530743  0.692222  0.989509   0.892947   \n",
       "1986       0.662279       52050     256.392975  0.771403  0.991931   0.949392   \n",
       "...             ...         ...            ...       ...       ...        ...   \n",
       "12977      0.732343       37296     216.945384  0.775419  0.991125   0.927616   \n",
       "1976       0.633881       51715     254.223601  0.754145  0.981533   0.879841   \n",
       "10702      0.797994       27796     187.038846  0.729309  0.988488   0.878999   \n",
       "12160      0.731533       33553     205.588083  0.808338  0.989360   0.933884   \n",
       "778        0.601110       38373     220.010790  0.757809  0.990723   0.955460   \n",
       "\n",
       "       Compactness  ShapeFactor1  ShapeFactor2  ShapeFactor3  ShapeFactor4  \n",
       "5575      0.721274      0.007840      0.001309      0.520236      0.996304  \n",
       "13028     0.773253      0.007558      0.001667      0.597920      0.997800  \n",
       "220       0.966189      0.006285      0.003378      0.933521      0.999407  \n",
       "9342      0.783437      0.006619      0.001538      0.613774      0.997798  \n",
       "1986      0.864889      0.005742      0.001982      0.748033      0.998367  \n",
       "...            ...           ...           ...           ...           ...  \n",
       "12977     0.824566      0.007118      0.002030      0.679910      0.998494  \n",
       "1976      0.878114      0.005704      0.002092      0.771085      0.996967  \n",
       "10702     0.775504      0.008778      0.001958      0.601406      0.997911  \n",
       "12160     0.824925      0.007508      0.002145      0.680501      0.998085  \n",
       "778       0.893377      0.006478      0.002545      0.798122      0.998693  \n",
       "\n",
       "[10888 rows x 16 columns]"
      ]
     },
     "execution_count": 78,
     "metadata": {},
     "output_type": "execute_result"
    }
   ],
   "source": [
    "X_train"
   ]
  },
  {
   "cell_type": "code",
   "execution_count": 79,
   "id": "61ddcb6c",
   "metadata": {},
   "outputs": [
    {
     "data": {
      "text/html": [
       "<div>\n",
       "<style scoped>\n",
       "    .dataframe tbody tr th:only-of-type {\n",
       "        vertical-align: middle;\n",
       "    }\n",
       "\n",
       "    .dataframe tbody tr th {\n",
       "        vertical-align: top;\n",
       "    }\n",
       "\n",
       "    .dataframe thead th {\n",
       "        text-align: right;\n",
       "    }\n",
       "</style>\n",
       "<table border=\"1\" class=\"dataframe\">\n",
       "  <thead>\n",
       "    <tr style=\"text-align: right;\">\n",
       "      <th></th>\n",
       "      <th>Area</th>\n",
       "      <th>Perimeter</th>\n",
       "      <th>MajorAxisLength</th>\n",
       "      <th>MinorAxisLength</th>\n",
       "      <th>AspectRation</th>\n",
       "      <th>Eccentricity</th>\n",
       "      <th>ConvexArea</th>\n",
       "      <th>EquivDiameter</th>\n",
       "      <th>Extent</th>\n",
       "      <th>Solidity</th>\n",
       "      <th>roundness</th>\n",
       "      <th>Compactness</th>\n",
       "      <th>ShapeFactor1</th>\n",
       "      <th>ShapeFactor2</th>\n",
       "      <th>ShapeFactor3</th>\n",
       "      <th>ShapeFactor4</th>\n",
       "    </tr>\n",
       "  </thead>\n",
       "  <tbody>\n",
       "    <tr>\n",
       "      <th>5842</th>\n",
       "      <td>47180</td>\n",
       "      <td>850.406</td>\n",
       "      <td>348.615238</td>\n",
       "      <td>172.904633</td>\n",
       "      <td>2.016228</td>\n",
       "      <td>0.868336</td>\n",
       "      <td>47729</td>\n",
       "      <td>245.094761</td>\n",
       "      <td>0.710040</td>\n",
       "      <td>0.988498</td>\n",
       "      <td>0.819814</td>\n",
       "      <td>0.703052</td>\n",
       "      <td>0.007389</td>\n",
       "      <td>0.001114</td>\n",
       "      <td>0.494283</td>\n",
       "      <td>0.996587</td>\n",
       "    </tr>\n",
       "    <tr>\n",
       "      <th>4663</th>\n",
       "      <td>74540</td>\n",
       "      <td>1031.421</td>\n",
       "      <td>391.055071</td>\n",
       "      <td>244.142573</td>\n",
       "      <td>1.601749</td>\n",
       "      <td>0.781171</td>\n",
       "      <td>75112</td>\n",
       "      <td>308.070245</td>\n",
       "      <td>0.802541</td>\n",
       "      <td>0.992385</td>\n",
       "      <td>0.880496</td>\n",
       "      <td>0.787792</td>\n",
       "      <td>0.005246</td>\n",
       "      <td>0.001246</td>\n",
       "      <td>0.620617</td>\n",
       "      <td>0.994073</td>\n",
       "    </tr>\n",
       "    <tr>\n",
       "      <th>2735</th>\n",
       "      <td>70413</td>\n",
       "      <td>1068.420</td>\n",
       "      <td>371.225317</td>\n",
       "      <td>243.174432</td>\n",
       "      <td>1.526580</td>\n",
       "      <td>0.755578</td>\n",
       "      <td>71731</td>\n",
       "      <td>299.420467</td>\n",
       "      <td>0.716628</td>\n",
       "      <td>0.981626</td>\n",
       "      <td>0.775137</td>\n",
       "      <td>0.806573</td>\n",
       "      <td>0.005272</td>\n",
       "      <td>0.001376</td>\n",
       "      <td>0.650561</td>\n",
       "      <td>0.993133</td>\n",
       "    </tr>\n",
       "    <tr>\n",
       "      <th>5674</th>\n",
       "      <td>43693</td>\n",
       "      <td>817.646</td>\n",
       "      <td>328.284872</td>\n",
       "      <td>170.724279</td>\n",
       "      <td>1.922895</td>\n",
       "      <td>0.854136</td>\n",
       "      <td>44262</td>\n",
       "      <td>235.863637</td>\n",
       "      <td>0.802914</td>\n",
       "      <td>0.987145</td>\n",
       "      <td>0.821280</td>\n",
       "      <td>0.718472</td>\n",
       "      <td>0.007513</td>\n",
       "      <td>0.001235</td>\n",
       "      <td>0.516203</td>\n",
       "      <td>0.992604</td>\n",
       "    </tr>\n",
       "    <tr>\n",
       "      <th>400</th>\n",
       "      <td>35730</td>\n",
       "      <td>698.169</td>\n",
       "      <td>242.216335</td>\n",
       "      <td>187.990913</td>\n",
       "      <td>1.288447</td>\n",
       "      <td>0.630575</td>\n",
       "      <td>36142</td>\n",
       "      <td>213.290527</td>\n",
       "      <td>0.786294</td>\n",
       "      <td>0.988601</td>\n",
       "      <td>0.921132</td>\n",
       "      <td>0.880579</td>\n",
       "      <td>0.006779</td>\n",
       "      <td>0.002514</td>\n",
       "      <td>0.775419</td>\n",
       "      <td>0.999086</td>\n",
       "    </tr>\n",
       "    <tr>\n",
       "      <th>...</th>\n",
       "      <td>...</td>\n",
       "      <td>...</td>\n",
       "      <td>...</td>\n",
       "      <td>...</td>\n",
       "      <td>...</td>\n",
       "      <td>...</td>\n",
       "      <td>...</td>\n",
       "      <td>...</td>\n",
       "      <td>...</td>\n",
       "      <td>...</td>\n",
       "      <td>...</td>\n",
       "      <td>...</td>\n",
       "      <td>...</td>\n",
       "      <td>...</td>\n",
       "      <td>...</td>\n",
       "      <td>...</td>\n",
       "    </tr>\n",
       "    <tr>\n",
       "      <th>2441</th>\n",
       "      <td>64828</td>\n",
       "      <td>1010.288</td>\n",
       "      <td>356.174454</td>\n",
       "      <td>232.848020</td>\n",
       "      <td>1.529643</td>\n",
       "      <td>0.756713</td>\n",
       "      <td>65960</td>\n",
       "      <td>287.300493</td>\n",
       "      <td>0.743406</td>\n",
       "      <td>0.982838</td>\n",
       "      <td>0.798146</td>\n",
       "      <td>0.806629</td>\n",
       "      <td>0.005494</td>\n",
       "      <td>0.001435</td>\n",
       "      <td>0.650650</td>\n",
       "      <td>0.995262</td>\n",
       "    </tr>\n",
       "    <tr>\n",
       "      <th>13466</th>\n",
       "      <td>40393</td>\n",
       "      <td>741.285</td>\n",
       "      <td>275.637548</td>\n",
       "      <td>186.947622</td>\n",
       "      <td>1.474411</td>\n",
       "      <td>0.734843</td>\n",
       "      <td>40818</td>\n",
       "      <td>226.781756</td>\n",
       "      <td>0.732076</td>\n",
       "      <td>0.989588</td>\n",
       "      <td>0.923731</td>\n",
       "      <td>0.822753</td>\n",
       "      <td>0.006824</td>\n",
       "      <td>0.001929</td>\n",
       "      <td>0.676923</td>\n",
       "      <td>0.998063</td>\n",
       "    </tr>\n",
       "    <tr>\n",
       "      <th>7693</th>\n",
       "      <td>38998</td>\n",
       "      <td>747.763</td>\n",
       "      <td>281.365791</td>\n",
       "      <td>177.618235</td>\n",
       "      <td>1.584104</td>\n",
       "      <td>0.775562</td>\n",
       "      <td>39652</td>\n",
       "      <td>222.831317</td>\n",
       "      <td>0.768010</td>\n",
       "      <td>0.983507</td>\n",
       "      <td>0.876444</td>\n",
       "      <td>0.791963</td>\n",
       "      <td>0.007215</td>\n",
       "      <td>0.001751</td>\n",
       "      <td>0.627206</td>\n",
       "      <td>0.993559</td>\n",
       "    </tr>\n",
       "    <tr>\n",
       "      <th>1247</th>\n",
       "      <td>40660</td>\n",
       "      <td>734.722</td>\n",
       "      <td>241.620480</td>\n",
       "      <td>214.896243</td>\n",
       "      <td>1.124359</td>\n",
       "      <td>0.457138</td>\n",
       "      <td>41027</td>\n",
       "      <td>227.530042</td>\n",
       "      <td>0.784715</td>\n",
       "      <td>0.991055</td>\n",
       "      <td>0.946523</td>\n",
       "      <td>0.941684</td>\n",
       "      <td>0.005942</td>\n",
       "      <td>0.002882</td>\n",
       "      <td>0.886768</td>\n",
       "      <td>0.997045</td>\n",
       "    </tr>\n",
       "    <tr>\n",
       "      <th>6183</th>\n",
       "      <td>51213</td>\n",
       "      <td>898.686</td>\n",
       "      <td>375.004168</td>\n",
       "      <td>174.840108</td>\n",
       "      <td>2.144841</td>\n",
       "      <td>0.884661</td>\n",
       "      <td>51952</td>\n",
       "      <td>255.355471</td>\n",
       "      <td>0.801769</td>\n",
       "      <td>0.985775</td>\n",
       "      <td>0.796846</td>\n",
       "      <td>0.680940</td>\n",
       "      <td>0.007322</td>\n",
       "      <td>0.000971</td>\n",
       "      <td>0.463680</td>\n",
       "      <td>0.994519</td>\n",
       "    </tr>\n",
       "  </tbody>\n",
       "</table>\n",
       "<p>2723 rows × 16 columns</p>\n",
       "</div>"
      ],
      "text/plain": [
       "        Area  Perimeter  MajorAxisLength  MinorAxisLength  AspectRation  \\\n",
       "5842   47180    850.406       348.615238       172.904633      2.016228   \n",
       "4663   74540   1031.421       391.055071       244.142573      1.601749   \n",
       "2735   70413   1068.420       371.225317       243.174432      1.526580   \n",
       "5674   43693    817.646       328.284872       170.724279      1.922895   \n",
       "400    35730    698.169       242.216335       187.990913      1.288447   \n",
       "...      ...        ...              ...              ...           ...   \n",
       "2441   64828   1010.288       356.174454       232.848020      1.529643   \n",
       "13466  40393    741.285       275.637548       186.947622      1.474411   \n",
       "7693   38998    747.763       281.365791       177.618235      1.584104   \n",
       "1247   40660    734.722       241.620480       214.896243      1.124359   \n",
       "6183   51213    898.686       375.004168       174.840108      2.144841   \n",
       "\n",
       "       Eccentricity  ConvexArea  EquivDiameter    Extent  Solidity  roundness  \\\n",
       "5842       0.868336       47729     245.094761  0.710040  0.988498   0.819814   \n",
       "4663       0.781171       75112     308.070245  0.802541  0.992385   0.880496   \n",
       "2735       0.755578       71731     299.420467  0.716628  0.981626   0.775137   \n",
       "5674       0.854136       44262     235.863637  0.802914  0.987145   0.821280   \n",
       "400        0.630575       36142     213.290527  0.786294  0.988601   0.921132   \n",
       "...             ...         ...            ...       ...       ...        ...   \n",
       "2441       0.756713       65960     287.300493  0.743406  0.982838   0.798146   \n",
       "13466      0.734843       40818     226.781756  0.732076  0.989588   0.923731   \n",
       "7693       0.775562       39652     222.831317  0.768010  0.983507   0.876444   \n",
       "1247       0.457138       41027     227.530042  0.784715  0.991055   0.946523   \n",
       "6183       0.884661       51952     255.355471  0.801769  0.985775   0.796846   \n",
       "\n",
       "       Compactness  ShapeFactor1  ShapeFactor2  ShapeFactor3  ShapeFactor4  \n",
       "5842      0.703052      0.007389      0.001114      0.494283      0.996587  \n",
       "4663      0.787792      0.005246      0.001246      0.620617      0.994073  \n",
       "2735      0.806573      0.005272      0.001376      0.650561      0.993133  \n",
       "5674      0.718472      0.007513      0.001235      0.516203      0.992604  \n",
       "400       0.880579      0.006779      0.002514      0.775419      0.999086  \n",
       "...            ...           ...           ...           ...           ...  \n",
       "2441      0.806629      0.005494      0.001435      0.650650      0.995262  \n",
       "13466     0.822753      0.006824      0.001929      0.676923      0.998063  \n",
       "7693      0.791963      0.007215      0.001751      0.627206      0.993559  \n",
       "1247      0.941684      0.005942      0.002882      0.886768      0.997045  \n",
       "6183      0.680940      0.007322      0.000971      0.463680      0.994519  \n",
       "\n",
       "[2723 rows x 16 columns]"
      ]
     },
     "execution_count": 79,
     "metadata": {},
     "output_type": "execute_result"
    }
   ],
   "source": [
    "X_test"
   ]
  },
  {
   "cell_type": "code",
   "execution_count": 82,
   "id": "44af28b5",
   "metadata": {},
   "outputs": [],
   "source": [
    "# Let's check content of each class in trainng dataset"
   ]
  },
  {
   "cell_type": "code",
   "execution_count": 95,
   "id": "e3e78754",
   "metadata": {},
   "outputs": [],
   "source": [
    "count_classes = np.bincount(y_train)"
   ]
  },
  {
   "cell_type": "code",
   "execution_count": 99,
   "id": "28b3640b",
   "metadata": {},
   "outputs": [
    {
     "name": "stdout",
     "output_type": "stream",
     "text": [
      "['0 - BARBUNYA : 1054']\n",
      "['1 - BOMBAY : 406']\n",
      "['2 - CALI : 1322']\n",
      "['3 - DERMASON : 2826']\n",
      "['4 - HOROZ : 1549']\n",
      "['5 - SEKER : 1610']\n",
      "['6 - SIRA : 2121']\n"
     ]
    }
   ],
   "source": [
    "for i,j in enumerate(count_classes):\n",
    "    print(str(i) + ' - ' + label_enc.inverse_transform([i]) + ' : ' + str(j))"
   ]
  },
  {
   "cell_type": "code",
   "execution_count": 100,
   "id": "52511294",
   "metadata": {},
   "outputs": [],
   "source": [
    "# There are a really small number of samples in Bombay class. It might cause some classification errors if class\n",
    "# Bombay is not characteristic enough. We cannot get more data so we have to leva at as it is."
   ]
  },
  {
   "cell_type": "code",
   "execution_count": 109,
   "id": "6db233a1",
   "metadata": {},
   "outputs": [],
   "source": [
    "# Let's check correlation in training data\n",
    "corr = X_train.corr()"
   ]
  },
  {
   "cell_type": "code",
   "execution_count": 110,
   "id": "f7d38626",
   "metadata": {},
   "outputs": [
    {
     "data": {
      "text/plain": [
       "<AxesSubplot:>"
      ]
     },
     "execution_count": 110,
     "metadata": {},
     "output_type": "execute_result"
    },
    {
     "data": {
      "image/png": "[encoded data removed]",
      "text/plain": [
       "<Figure size 1224x1224 with 2 Axes>"
      ]
     },
     "metadata": {
      "needs_background": "light"
     },
     "output_type": "display_data"
    }
   ],
   "source": [
    "plt.figure(figsize = (17,17))\n",
    "sns.heatmap(corr, annot=True)"
   ]
  },
  {
   "cell_type": "code",
   "execution_count": 111,
   "id": "774197f8",
   "metadata": {},
   "outputs": [],
   "source": [
    "# There are a few high correlated features - we have to remove it (redundant)"
   ]
  },
  {
   "cell_type": "code",
   "execution_count": 119,
   "id": "4ec03dfc",
   "metadata": {},
   "outputs": [],
   "source": [
    "# Calc corr module\n",
    "corr_matrix = X_train.corr().abs()\n",
    "# Set max corr threshold\n",
    "thresh = 0.60\n",
    "# Just triu matrix \n",
    "upper_triu_corr = corr_matrix.where(np.triu(np.ones(corr_matrix.shape), k=1).astype(np.bool))\n",
    "triu_cols = upper_triu_corr.columns\n",
    "# Add to list high correlated features (correlation value upper threshold)\n",
    "high_correlated_features = [column for column in triu_cols if any(upper_triu_corr[column] > thresh)]"
   ]
  },
  {
   "cell_type": "code",
   "execution_count": 120,
   "id": "39bd44c8",
   "metadata": {},
   "outputs": [
    {
     "data": {
      "text/plain": [
       "['Perimeter',\n",
       " 'MajorAxisLength',\n",
       " 'MinorAxisLength',\n",
       " 'Eccentricity',\n",
       " 'ConvexArea',\n",
       " 'EquivDiameter',\n",
       " 'roundness',\n",
       " 'Compactness',\n",
       " 'ShapeFactor1',\n",
       " 'ShapeFactor2',\n",
       " 'ShapeFactor3',\n",
       " 'ShapeFactor4']"
      ]
     },
     "execution_count": 120,
     "metadata": {},
     "output_type": "execute_result"
    }
   ],
   "source": [
    "# Print high correlated features\n",
    "high_correlated_features"
   ]
  },
  {
   "cell_type": "code",
   "execution_count": 123,
   "id": "3442db7e",
   "metadata": {},
   "outputs": [],
   "source": [
    "# Remove columns from training and test data\n",
    "X_train_clear = X_train.drop(columns=high_correlated_features)\n",
    "X_test_clear = X_test.drop(columns=high_correlated_features)"
   ]
  },
  {
   "cell_type": "code",
   "execution_count": 124,
   "id": "e829ace5",
   "metadata": {},
   "outputs": [],
   "source": [
    "# X_train after high correlated columns removing"
   ]
  },
  {
   "cell_type": "code",
   "execution_count": 125,
   "id": "20a0cea6",
   "metadata": {},
   "outputs": [
    {
     "data": {
      "text/html": [
       "<div>\n",
       "<style scoped>\n",
       "    .dataframe tbody tr th:only-of-type {\n",
       "        vertical-align: middle;\n",
       "    }\n",
       "\n",
       "    .dataframe tbody tr th {\n",
       "        vertical-align: top;\n",
       "    }\n",
       "\n",
       "    .dataframe thead th {\n",
       "        text-align: right;\n",
       "    }\n",
       "</style>\n",
       "<table border=\"1\" class=\"dataframe\">\n",
       "  <thead>\n",
       "    <tr style=\"text-align: right;\">\n",
       "      <th></th>\n",
       "      <th>Area</th>\n",
       "      <th>AspectRation</th>\n",
       "      <th>Extent</th>\n",
       "      <th>Solidity</th>\n",
       "    </tr>\n",
       "  </thead>\n",
       "  <tbody>\n",
       "    <tr>\n",
       "      <th>5575</th>\n",
       "      <td>39817</td>\n",
       "      <td>1.915099</td>\n",
       "      <td>0.628673</td>\n",
       "      <td>0.987770</td>\n",
       "    </tr>\n",
       "    <tr>\n",
       "      <th>13028</th>\n",
       "      <td>37278</td>\n",
       "      <td>1.668785</td>\n",
       "      <td>0.773435</td>\n",
       "      <td>0.986504</td>\n",
       "    </tr>\n",
       "    <tr>\n",
       "      <th>220</th>\n",
       "      <td>34532</td>\n",
       "      <td>1.070578</td>\n",
       "      <td>0.768334</td>\n",
       "      <td>0.985024</td>\n",
       "    </tr>\n",
       "    <tr>\n",
       "      <th>9342</th>\n",
       "      <td>47348</td>\n",
       "      <td>1.625675</td>\n",
       "      <td>0.692222</td>\n",
       "      <td>0.989509</td>\n",
       "    </tr>\n",
       "    <tr>\n",
       "      <th>1986</th>\n",
       "      <td>51630</td>\n",
       "      <td>1.334655</td>\n",
       "      <td>0.771403</td>\n",
       "      <td>0.991931</td>\n",
       "    </tr>\n",
       "    <tr>\n",
       "      <th>...</th>\n",
       "      <td>...</td>\n",
       "      <td>...</td>\n",
       "      <td>...</td>\n",
       "      <td>...</td>\n",
       "    </tr>\n",
       "    <tr>\n",
       "      <th>12977</th>\n",
       "      <td>36965</td>\n",
       "      <td>1.468568</td>\n",
       "      <td>0.775419</td>\n",
       "      <td>0.991125</td>\n",
       "    </tr>\n",
       "    <tr>\n",
       "      <th>1976</th>\n",
       "      <td>50760</td>\n",
       "      <td>1.292941</td>\n",
       "      <td>0.754145</td>\n",
       "      <td>0.981533</td>\n",
       "    </tr>\n",
       "    <tr>\n",
       "      <th>10702</th>\n",
       "      <td>27476</td>\n",
       "      <td>1.659297</td>\n",
       "      <td>0.729309</td>\n",
       "      <td>0.988488</td>\n",
       "    </tr>\n",
       "    <tr>\n",
       "      <th>12160</th>\n",
       "      <td>33196</td>\n",
       "      <td>1.466692</td>\n",
       "      <td>0.808338</td>\n",
       "      <td>0.989360</td>\n",
       "    </tr>\n",
       "    <tr>\n",
       "      <th>778</th>\n",
       "      <td>38017</td>\n",
       "      <td>1.251304</td>\n",
       "      <td>0.757809</td>\n",
       "      <td>0.990723</td>\n",
       "    </tr>\n",
       "  </tbody>\n",
       "</table>\n",
       "<p>10888 rows × 4 columns</p>\n",
       "</div>"
      ],
      "text/plain": [
       "        Area  AspectRation    Extent  Solidity\n",
       "5575   39817      1.915099  0.628673  0.987770\n",
       "13028  37278      1.668785  0.773435  0.986504\n",
       "220    34532      1.070578  0.768334  0.985024\n",
       "9342   47348      1.625675  0.692222  0.989509\n",
       "1986   51630      1.334655  0.771403  0.991931\n",
       "...      ...           ...       ...       ...\n",
       "12977  36965      1.468568  0.775419  0.991125\n",
       "1976   50760      1.292941  0.754145  0.981533\n",
       "10702  27476      1.659297  0.729309  0.988488\n",
       "12160  33196      1.466692  0.808338  0.989360\n",
       "778    38017      1.251304  0.757809  0.990723\n",
       "\n",
       "[10888 rows x 4 columns]"
      ]
     },
     "execution_count": 125,
     "metadata": {},
     "output_type": "execute_result"
    }
   ],
   "source": [
    "X_train_clear"
   ]
  },
  {
   "cell_type": "code",
   "execution_count": 126,
   "id": "eacc59b3",
   "metadata": {},
   "outputs": [],
   "source": [
    "# We've got just 4 features"
   ]
  },
  {
   "cell_type": "code",
   "execution_count": 127,
   "id": "0f6908d4",
   "metadata": {},
   "outputs": [],
   "source": [
    "# Let's check content of each class in trainng dataset"
   ]
  },
  {
   "cell_type": "code",
   "execution_count": 128,
   "id": "ad56b9bf",
   "metadata": {},
   "outputs": [],
   "source": [
    "# We have 10888 test and 2723 training data. Data are not normalized, so we have to normalize it."
   ]
  },
  {
   "cell_type": "code",
   "execution_count": 141,
   "id": "d648c891",
   "metadata": {},
   "outputs": [],
   "source": [
    "from sklearn.preprocessing import MinMaxScaler"
   ]
  },
  {
   "cell_type": "code",
   "execution_count": 142,
   "id": "d6501425",
   "metadata": {},
   "outputs": [],
   "source": [
    "min_max = MinMaxScaler()"
   ]
  },
  {
   "cell_type": "code",
   "execution_count": 143,
   "id": "259bf0d7",
   "metadata": {},
   "outputs": [],
   "source": [
    "# Get hyperparams from training data and us it to transform test data"
   ]
  },
  {
   "cell_type": "code",
   "execution_count": 170,
   "id": "9d3e8ed2",
   "metadata": {},
   "outputs": [],
   "source": [
    "x_train_norm = min_max.fit_transform(X_train_clear)"
   ]
  },
  {
   "cell_type": "code",
   "execution_count": 171,
   "id": "eff51706",
   "metadata": {},
   "outputs": [],
   "source": [
    "x_test_norm = min_max.transform(X_test_clear)"
   ]
  },
  {
   "cell_type": "code",
   "execution_count": 166,
   "id": "cf42aa68",
   "metadata": {},
   "outputs": [
    {
     "data": {
      "text/plain": [
       "array([[0.08379083, 0.63341908, 0.23596961, 0.86486778],\n",
       "       [0.07279796, 0.45816083, 0.70162094, 0.84009906],\n",
       "       [0.06090887, 0.03252387, 0.68521379, 0.81116097],\n",
       "       ...,\n",
       "       [0.03035918, 0.45141027, 0.55968433, 0.87890912],\n",
       "       [0.05512452, 0.31436776, 0.81389263, 0.89597867],\n",
       "       [0.07599754, 0.16111432, 0.65135824, 0.9226331 ]])"
      ]
     },
     "execution_count": 166,
     "metadata": {},
     "output_type": "execute_result"
    }
   ],
   "source": [
    "# Normalized data\n",
    "x_train_norm"
   ]
  },
  {
   "cell_type": "code",
   "execution_count": 147,
   "id": "5bc48c86",
   "metadata": {},
   "outputs": [
    {
     "data": {
      "text/plain": [
       "(10888, 4)"
      ]
     },
     "execution_count": 147,
     "metadata": {},
     "output_type": "execute_result"
    }
   ],
   "source": [
    "x_train_norm.shape"
   ]
  },
  {
   "cell_type": "code",
   "execution_count": 148,
   "id": "a95d766b",
   "metadata": {},
   "outputs": [],
   "source": [
    "# Machine Learning - classification"
   ]
  },
  {
   "cell_type": "code",
   "execution_count": 152,
   "id": "eeb8c9dc",
   "metadata": {},
   "outputs": [],
   "source": [
    "# 1. NN \n",
    "from sklearn.neighbors import KNeighborsClassifier"
   ]
  },
  {
   "cell_type": "code",
   "execution_count": 153,
   "id": "16908ebd",
   "metadata": {},
   "outputs": [],
   "source": [
    "# One NearestNeighbors - so k is 1 "
   ]
  },
  {
   "cell_type": "code",
   "execution_count": 154,
   "id": "d0e35a0f",
   "metadata": {},
   "outputs": [],
   "source": [
    "NN_model = KNeighborsClassifier(n_neighbors=1)"
   ]
  },
  {
   "cell_type": "code",
   "execution_count": 155,
   "id": "124ae67c",
   "metadata": {},
   "outputs": [
    {
     "data": {
      "text/plain": [
       "KNeighborsClassifier(n_neighbors=1)"
      ]
     },
     "execution_count": 155,
     "metadata": {},
     "output_type": "execute_result"
    }
   ],
   "source": [
    "NN_model.fit(x_train_norm, y_train)"
   ]
  },
  {
   "cell_type": "code",
   "execution_count": 156,
   "id": "53124f4f",
   "metadata": {},
   "outputs": [],
   "source": [
    "NN_model_train_preds = NN_model.predict(x_train_norm)"
   ]
  },
  {
   "cell_type": "code",
   "execution_count": 157,
   "id": "7679a9ee",
   "metadata": {
    "scrolled": true
   },
   "outputs": [
    {
     "data": {
      "text/plain": [
       "array([4, 3, 5, ..., 3, 3, 5])"
      ]
     },
     "execution_count": 157,
     "metadata": {},
     "output_type": "execute_result"
    }
   ],
   "source": [
    "NN_model_train_preds"
   ]
  },
  {
   "cell_type": "code",
   "execution_count": 158,
   "id": "6b177638",
   "metadata": {},
   "outputs": [],
   "source": [
    "# We can observe results on a confusion matrix"
   ]
  },
  {
   "cell_type": "code",
   "execution_count": 159,
   "id": "fd2f5108",
   "metadata": {},
   "outputs": [],
   "source": [
    "from sklearn.metrics import confusion_matrix\n",
    "from sklearn.metrics import classification_report"
   ]
  },
  {
   "cell_type": "code",
   "execution_count": 160,
   "id": "9c29f3cf",
   "metadata": {},
   "outputs": [
    {
     "data": {
      "text/plain": [
       "array([[1054,    0,    0,    0,    0,    0,    0],\n",
       "       [   0,  406,    0,    0,    0,    0,    0],\n",
       "       [   0,    0, 1322,    0,    0,    0,    0],\n",
       "       [   0,    0,    0, 2826,    0,    0,    0],\n",
       "       [   0,    0,    0,    0, 1549,    0,    0],\n",
       "       [   0,    0,    0,    0,    0, 1610,    0],\n",
       "       [   0,    0,    0,    0,    0,    0, 2121]], dtype=int64)"
      ]
     },
     "execution_count": 160,
     "metadata": {},
     "output_type": "execute_result"
    }
   ],
   "source": [
    "confusion_matrix(y_train, NN_model_train_preds)"
   ]
  },
  {
   "cell_type": "code",
   "execution_count": 162,
   "id": "5d632393",
   "metadata": {},
   "outputs": [
    {
     "name": "stdout",
     "output_type": "stream",
     "text": [
      "              precision    recall  f1-score   support\n",
      "\n",
      "           0       1.00      1.00      1.00      1054\n",
      "           1       1.00      1.00      1.00       406\n",
      "           2       1.00      1.00      1.00      1322\n",
      "           3       1.00      1.00      1.00      2826\n",
      "           4       1.00      1.00      1.00      1549\n",
      "           5       1.00      1.00      1.00      1610\n",
      "           6       1.00      1.00      1.00      2121\n",
      "\n",
      "    accuracy                           1.00     10888\n",
      "   macro avg       1.00      1.00      1.00     10888\n",
      "weighted avg       1.00      1.00      1.00     10888\n",
      "\n"
     ]
    }
   ],
   "source": [
    "print(classification_report(y_train, NN_model_train_preds))"
   ]
  },
  {
   "cell_type": "code",
   "execution_count": 163,
   "id": "9f1ef8f4",
   "metadata": {},
   "outputs": [],
   "source": [
    "# NN for test data"
   ]
  },
  {
   "cell_type": "code",
   "execution_count": 173,
   "id": "ab22d52d",
   "metadata": {},
   "outputs": [],
   "source": [
    "NN_model_test_preds = NN_model.predict(x_test_norm)"
   ]
  },
  {
   "cell_type": "code",
   "execution_count": 174,
   "id": "6cc08a17",
   "metadata": {},
   "outputs": [
    {
     "data": {
      "text/plain": [
       "array([[192,   0,  63,   0,   2,   2,   9],\n",
       "       [  0, 116,   0,   0,   0,   0,   0],\n",
       "       [ 65,   0, 225,   0,   9,   1,   8],\n",
       "       [  0,   0,   0, 609,   2,  27,  82],\n",
       "       [  1,   0,  13,   2, 350,   0,  13],\n",
       "       [  3,   0,   0,  19,   0, 374,  21],\n",
       "       [  8,   0,   4,  73,  11,  15, 404]], dtype=int64)"
      ]
     },
     "execution_count": 174,
     "metadata": {},
     "output_type": "execute_result"
    }
   ],
   "source": [
    "confusion_matrix(y_test, NN_model_test_preds)"
   ]
  },
  {
   "cell_type": "code",
   "execution_count": 175,
   "id": "e57d4998",
   "metadata": {},
   "outputs": [
    {
     "name": "stdout",
     "output_type": "stream",
     "text": [
      "              precision    recall  f1-score   support\n",
      "\n",
      "           0       0.71      0.72      0.72       268\n",
      "           1       1.00      1.00      1.00       116\n",
      "           2       0.74      0.73      0.73       308\n",
      "           3       0.87      0.85      0.86       720\n",
      "           4       0.94      0.92      0.93       379\n",
      "           5       0.89      0.90      0.89       417\n",
      "           6       0.75      0.78      0.77       515\n",
      "\n",
      "    accuracy                           0.83      2723\n",
      "   macro avg       0.84      0.84      0.84      2723\n",
      "weighted avg       0.83      0.83      0.83      2723\n",
      "\n"
     ]
    }
   ],
   "source": [
    "print(classification_report(y_test, NN_model_test_preds))"
   ]
  },
  {
   "cell_type": "code",
   "execution_count": 238,
   "id": "e3de6c25",
   "metadata": {},
   "outputs": [],
   "source": [
    "# 2. kNN classifier\n",
    "from sklearn.metrics import accuracy_score\n",
    "k_max = 50\n",
    "acc_list = []\n",
    "\n",
    "for i in range(1, k_max+1):\n",
    "    kNN_model = KNeighborsClassifier(n_neighbors=i)\n",
    "    kNN_model.fit(x_train_norm, y_train)\n",
    "    kNN_test_preds = kNN_model.predict(x_test_norm)\n",
    "    acc_list.append(accuracy_score(y_test, kNN_test_preds))"
   ]
  },
  {
   "cell_type": "code",
   "execution_count": 239,
   "id": "8ed066e1",
   "metadata": {
    "scrolled": true
   },
   "outputs": [
    {
     "data": {
      "text/plain": [
       "Text(0, 0.5, 'accuracy')"
      ]
     },
     "execution_count": 239,
     "metadata": {},
     "output_type": "execute_result"
    },
    {
     "data": {
      "image/png": "[encoded data removed]",
      "text/plain": [
       "<Figure size 432x288 with 1 Axes>"
      ]
     },
     "metadata": {
      "needs_background": "light"
     },
     "output_type": "display_data"
    }
   ],
   "source": [
    "# Plot accuracy\n",
    "plt.scatter(list(range(1, k_max+1)), acc_list)\n",
    "plt.xlabel('k-Neighbours')\n",
    "plt.ylabel('accuracy')"
   ]
  },
  {
   "cell_type": "code",
   "execution_count": 240,
   "id": "03f5d58c",
   "metadata": {},
   "outputs": [],
   "source": [
    "# Highest accuracy for 21 neighbours"
   ]
  },
  {
   "cell_type": "code",
   "execution_count": 245,
   "id": "8d06663a",
   "metadata": {},
   "outputs": [
    {
     "data": {
      "text/plain": [
       "21"
      ]
     },
     "execution_count": 245,
     "metadata": {},
     "output_type": "execute_result"
    }
   ],
   "source": [
    "acc_list.index(max(acc_list))+1 "
   ]
  },
  {
   "cell_type": "code",
   "execution_count": 246,
   "id": "b8f8ba0e",
   "metadata": {},
   "outputs": [],
   "source": [
    "k = 21\n",
    "kNN_model = KNeighborsClassifier(n_neighbors=k)"
   ]
  },
  {
   "cell_type": "code",
   "execution_count": 247,
   "id": "3dd8bb2a",
   "metadata": {},
   "outputs": [
    {
     "data": {
      "text/plain": [
       "KNeighborsClassifier(n_neighbors=21)"
      ]
     },
     "execution_count": 247,
     "metadata": {},
     "output_type": "execute_result"
    }
   ],
   "source": [
    "kNN_model.fit(x_train_norm, y_train)"
   ]
  },
  {
   "cell_type": "code",
   "execution_count": 248,
   "id": "8dd8bfcc",
   "metadata": {},
   "outputs": [],
   "source": [
    "# Check training data for kNN"
   ]
  },
  {
   "cell_type": "code",
   "execution_count": 249,
   "id": "949780ef",
   "metadata": {},
   "outputs": [],
   "source": [
    "kNN_train_preds = kNN_model.predict(x_train_norm)"
   ]
  },
  {
   "cell_type": "code",
   "execution_count": 250,
   "id": "6eb57191",
   "metadata": {},
   "outputs": [
    {
     "data": {
      "text/plain": [
       "array([[ 783,    0,  193,    0,    7,   10,   61],\n",
       "       [   0,  406,    0,    0,    0,    0,    0],\n",
       "       [ 112,    0, 1164,    0,   24,    2,   20],\n",
       "       [   1,    0,    0, 2580,   11,   47,  187],\n",
       "       [   6,    0,   40,    7, 1459,    0,   37],\n",
       "       [   6,    0,    0,   43,    0, 1505,   56],\n",
       "       [  14,    0,    7,  205,   25,   22, 1848]], dtype=int64)"
      ]
     },
     "execution_count": 250,
     "metadata": {},
     "output_type": "execute_result"
    }
   ],
   "source": [
    "confusion_matrix(y_train, kNN_train_preds)"
   ]
  },
  {
   "cell_type": "code",
   "execution_count": 252,
   "id": "d1632c87",
   "metadata": {},
   "outputs": [
    {
     "name": "stdout",
     "output_type": "stream",
     "text": [
      "              precision    recall  f1-score   support\n",
      "\n",
      "           0       0.85      0.74      0.79      1054\n",
      "           1       1.00      1.00      1.00       406\n",
      "           2       0.83      0.88      0.85      1322\n",
      "           3       0.91      0.91      0.91      2826\n",
      "           4       0.96      0.94      0.95      1549\n",
      "           5       0.95      0.93      0.94      1610\n",
      "           6       0.84      0.87      0.85      2121\n",
      "\n",
      "    accuracy                           0.90     10888\n",
      "   macro avg       0.90      0.90      0.90     10888\n",
      "weighted avg       0.90      0.90      0.89     10888\n",
      "\n"
     ]
    }
   ],
   "source": [
    "print(classification_report(y_train, kNN_train_preds))"
   ]
  },
  {
   "cell_type": "code",
   "execution_count": 253,
   "id": "2c730c67",
   "metadata": {},
   "outputs": [],
   "source": [
    "# Test data for kNN"
   ]
  },
  {
   "cell_type": "code",
   "execution_count": 254,
   "id": "e49eac39",
   "metadata": {},
   "outputs": [],
   "source": [
    "kNN_test_preds = kNN_model.predict(x_test_norm)"
   ]
  },
  {
   "cell_type": "code",
   "execution_count": 255,
   "id": "b474725a",
   "metadata": {},
   "outputs": [
    {
     "data": {
      "text/plain": [
       "array([[195,   0,  61,   1,   0,   1,  10],\n",
       "       [  0, 116,   0,   0,   0,   0,   0],\n",
       "       [ 39,   0, 259,   0,   6,   0,   4],\n",
       "       [  0,   0,   0, 661,   3,  13,  43],\n",
       "       [  3,   0,  10,   1, 352,   0,  13],\n",
       "       [  5,   0,   0,  14,   1, 382,  15],\n",
       "       [  7,   0,   2,  64,   6,   3, 433]], dtype=int64)"
      ]
     },
     "execution_count": 255,
     "metadata": {},
     "output_type": "execute_result"
    }
   ],
   "source": [
    "confusion_matrix(y_test, kNN_test_preds)"
   ]
  },
  {
   "cell_type": "code",
   "execution_count": 256,
   "id": "e6c48b9a",
   "metadata": {},
   "outputs": [
    {
     "name": "stdout",
     "output_type": "stream",
     "text": [
      "              precision    recall  f1-score   support\n",
      "\n",
      "           0       0.78      0.73      0.75       268\n",
      "           1       1.00      1.00      1.00       116\n",
      "           2       0.78      0.84      0.81       308\n",
      "           3       0.89      0.92      0.90       720\n",
      "           4       0.96      0.93      0.94       379\n",
      "           5       0.96      0.92      0.94       417\n",
      "           6       0.84      0.84      0.84       515\n",
      "\n",
      "    accuracy                           0.88      2723\n",
      "   macro avg       0.89      0.88      0.88      2723\n",
      "weighted avg       0.88      0.88      0.88      2723\n",
      "\n"
     ]
    }
   ],
   "source": [
    "print(classification_report(y_test, kNN_test_preds))"
   ]
  },
  {
   "cell_type": "code",
   "execution_count": 257,
   "id": "8c16438d",
   "metadata": {},
   "outputs": [],
   "source": [
    "# 3. NearestCentroid "
   ]
  },
  {
   "cell_type": "code",
   "execution_count": 258,
   "id": "f997184a",
   "metadata": {},
   "outputs": [],
   "source": [
    "from sklearn.neighbors import NearestCentroid"
   ]
  },
  {
   "cell_type": "code",
   "execution_count": 259,
   "id": "8c72ec76",
   "metadata": {},
   "outputs": [],
   "source": [
    "NC_model = NearestCentroid(metric='euclidean')"
   ]
  },
  {
   "cell_type": "code",
   "execution_count": 260,
   "id": "0b36c62b",
   "metadata": {
    "scrolled": true
   },
   "outputs": [
    {
     "data": {
      "text/plain": [
       "NearestCentroid()"
      ]
     },
     "execution_count": 260,
     "metadata": {},
     "output_type": "execute_result"
    }
   ],
   "source": [
    "NC_model.fit(x_train_norm, y_train)"
   ]
  },
  {
   "cell_type": "code",
   "execution_count": 261,
   "id": "b1311070",
   "metadata": {},
   "outputs": [],
   "source": [
    "# Check training for NC model"
   ]
  },
  {
   "cell_type": "code",
   "execution_count": 265,
   "id": "4fa18a80",
   "metadata": {},
   "outputs": [],
   "source": [
    "NC_train_preds = NC_model.predict(x_train_norm)"
   ]
  },
  {
   "cell_type": "code",
   "execution_count": 266,
   "id": "ff32dd33",
   "metadata": {},
   "outputs": [
    {
     "data": {
      "text/plain": [
       "array([[ 708,    0,  183,    8,   31,   46,   78],\n",
       "       [   1,  404,    0,    0,    0,    1,    0],\n",
       "       [ 165,    0,  981,    2,  104,    2,   68],\n",
       "       [  38,    0,    1, 1863,   21,  285,  618],\n",
       "       [  26,    0,  338,    0, 1165,    0,   20],\n",
       "       [   6,    0,    0,   74,    0, 1507,   23],\n",
       "       [  74,    0,   78,  496,   74,   56, 1343]], dtype=int64)"
      ]
     },
     "execution_count": 266,
     "metadata": {},
     "output_type": "execute_result"
    }
   ],
   "source": [
    "confusion_matrix(y_train, NC_train_preds)"
   ]
  },
  {
   "cell_type": "code",
   "execution_count": 267,
   "id": "256293f9",
   "metadata": {},
   "outputs": [
    {
     "name": "stdout",
     "output_type": "stream",
     "text": [
      "              precision    recall  f1-score   support\n",
      "\n",
      "           0       0.70      0.67      0.68      1054\n",
      "           1       1.00      1.00      1.00       406\n",
      "           2       0.62      0.74      0.68      1322\n",
      "           3       0.76      0.66      0.71      2826\n",
      "           4       0.84      0.75      0.79      1549\n",
      "           5       0.79      0.94      0.86      1610\n",
      "           6       0.62      0.63      0.63      2121\n",
      "\n",
      "    accuracy                           0.73     10888\n",
      "   macro avg       0.76      0.77      0.76     10888\n",
      "weighted avg       0.74      0.73      0.73     10888\n",
      "\n"
     ]
    }
   ],
   "source": [
    "print(classification_report(y_train, NC_train_preds))"
   ]
  },
  {
   "cell_type": "code",
   "execution_count": 268,
   "id": "68c7aa13",
   "metadata": {},
   "outputs": [],
   "source": [
    "# Check test data for NC model"
   ]
  },
  {
   "cell_type": "code",
   "execution_count": 269,
   "id": "bf83ee8b",
   "metadata": {},
   "outputs": [],
   "source": [
    "NC_test_preds = NC_model.predict(x_test_norm)"
   ]
  },
  {
   "cell_type": "code",
   "execution_count": 270,
   "id": "6ac731b2",
   "metadata": {},
   "outputs": [
    {
     "data": {
      "text/plain": [
       "array([[183,   0,  59,   0,   4,   6,  16],\n",
       "       [  0, 116,   0,   0,   0,   0,   0],\n",
       "       [ 41,   0, 226,   0,  32,   0,   9],\n",
       "       [  5,   0,   1, 468,   6,  87, 153],\n",
       "       [  4,   0, 104,   2, 266,   0,   3],\n",
       "       [  4,   0,   0,  17,   0, 390,   6],\n",
       "       [ 13,   0,  13, 114,  30,  11, 334]], dtype=int64)"
      ]
     },
     "execution_count": 270,
     "metadata": {},
     "output_type": "execute_result"
    }
   ],
   "source": [
    "confusion_matrix(y_test, NC_test_preds)"
   ]
  },
  {
   "cell_type": "code",
   "execution_count": 271,
   "id": "4475483b",
   "metadata": {},
   "outputs": [
    {
     "name": "stdout",
     "output_type": "stream",
     "text": [
      "              precision    recall  f1-score   support\n",
      "\n",
      "           0       0.73      0.68      0.71       268\n",
      "           1       1.00      1.00      1.00       116\n",
      "           2       0.56      0.73      0.64       308\n",
      "           3       0.78      0.65      0.71       720\n",
      "           4       0.79      0.70      0.74       379\n",
      "           5       0.79      0.94      0.86       417\n",
      "           6       0.64      0.65      0.64       515\n",
      "\n",
      "    accuracy                           0.73      2723\n",
      "   macro avg       0.76      0.76      0.76      2723\n",
      "weighted avg       0.74      0.73      0.73      2723\n",
      "\n"
     ]
    }
   ],
   "source": [
    "print(classification_report(y_test, NC_test_preds))"
   ]
  },
  {
   "cell_type": "code",
   "execution_count": 272,
   "id": "9643a6c3",
   "metadata": {},
   "outputs": [],
   "source": [
    "# Results and summary"
   ]
  },
  {
   "cell_type": "code",
   "execution_count": 273,
   "id": "7043f382",
   "metadata": {},
   "outputs": [],
   "source": [
    "# First we loaded data and got know something more about it. Next - data has been splitted into train and test sets.\n",
    "# We also remove high correlated (redundant) features with setting max correlation threshold.\n",
    "# Next - our approach was to first train model with training data and next - test it for test data.\n",
    "# NC turned out the worst model - accuracy was only 73% - the same for training and test data.\n",
    "# In case of NN and kNN we can see some differences. NN training accuracy is 100%, but only 83% for test data.\n",
    "# We can see there an overfitting problem, but it was really easy to deal with it - we increase number of \n",
    "# nearest neighbours. First, we tested k numbers in range (1-50) and choose one with the best accuracy score.\n",
    "# Then - our training accuracy was 90%, but the most important one - for test data - increased up to 88% for 21 \n",
    "# neighbours. Each class has been predicted really fine with our models. "
   ]
  }
 ],
 "metadata": {
  "kernelspec": {
   "display_name": "Python 3 (ipykernel)",
   "language": "python",
   "name": "python3"
  },
  "language_info": {
   "codemirror_mode": {
    "name": "ipython",
    "version": 3
   },
   "file_extension": ".py",
   "mimetype": "text/x-python",
   "name": "python",
   "nbconvert_exporter": "python",
   "pygments_lexer": "ipython3",
   "version": "3.10.9"
  }
 },
 "nbformat": 4,
 "nbformat_minor": 5
}
